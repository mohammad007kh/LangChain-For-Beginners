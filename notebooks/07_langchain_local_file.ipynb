{
 "cells": [
  {
   "cell_type": "markdown",
   "id": "a99749bf",
   "metadata": {},
   "source": [
    "<div dir=\"rtl\" align=\"right\">\n",
    "\n",
    "# شروع کار با LangChain و مدل محلی LLM\n",
    "#### در این بخش، با نحوه دانلود، بارگذاری و استفاده از مدل زبانی بزرگ (LLM) به صورت محلی آشنا می‌شویم. این روش به شما امکان می‌دهد بدون نیاز به سرویس‌های ابری یا کلید API، مدل را اجرا کنید.\n",
    "\n",
    "</div>"
   ]
  },
  {
   "cell_type": "markdown",
   "id": "e237af68",
   "metadata": {},
   "source": [
    "<div dir=\"rtl\" align=\"right\">\n",
    "\n",
    "### بارگذاری مدل محلی و آماده‌سازی محیط\n",
    "در این سلول، مدل زبانی بزرگ را به صورت محلی بارگذاری می‌کنیم تا بتوانیم بدون نیاز به اینترنت یا کلید API از آن استفاده کنیم.\n",
    "\n",
    "</div>"
   ]
  },
  {
   "cell_type": "code",
   "execution_count": 1,
   "id": "cf146aa1",
   "metadata": {},
   "outputs": [
    {
     "name": "stdout",
     "output_type": "stream",
     "text": [
      "Model already exists at ../local_models/gpt-neo-1.3B\n"
     ]
    }
   ],
   "source": [
    "from transformers import AutoModelForCausalLM, AutoTokenizer\n",
    "import os\n",
    "\n",
    "# Define the local model directory for GPT-Neo 1.3B\n",
    "local_model_dir = \"../local_models/gpt-neo-1.3B\"\n",
    "\n",
    "# Check if the model is already downloaded\n",
    "if not os.path.exists(local_model_dir):\n",
    "    print(\"Downloading GPT-Neo 1.3B model...\")\n",
    "    tokenizer = AutoTokenizer.from_pretrained(\"gpt-neo-1.3B\")\n",
    "    model = AutoModelForCausalLM.from_pretrained(\"gpt-neo-1.3B\")\n",
    "    tokenizer.save_pretrained(local_model_dir)\n",
    "    model.save_pretrained(local_model_dir)\n",
    "    print(f\"Model saved to {local_model_dir}\")\n",
    "else:\n",
    "    print(f\"Model already exists at {local_model_dir}\")"
   ]
  },
  {
   "cell_type": "markdown",
   "id": "8edcadb6",
   "metadata": {},
   "source": [
    "<div dir=\"rtl\" align=\"right\">\n",
    "\n",
    "### ساخت مدل زبانی محلی\n",
    "در این سلول، مدل زبانی محلی را با تنظیمات دلخواه مقداردهی می‌کنیم و آماده استفاده در LangChain می‌سازیم.\n",
    "\n",
    "</div>"
   ]
  },
  {
   "cell_type": "code",
   "execution_count": 2,
   "id": "0b99c6b3",
   "metadata": {},
   "outputs": [
    {
     "data": {
      "application/vnd.jupyter.widget-view+json": {
       "model_id": "64c1761b3cc344aeb0cbebec8180f37b",
       "version_major": 2,
       "version_minor": 0
      },
      "text/plain": [
       "Loading checkpoint shards:   0%|          | 0/2 [00:00<?, ?it/s]"
      ]
     },
     "metadata": {},
     "output_type": "display_data"
    },
    {
     "name": "stderr",
     "output_type": "stream",
     "text": [
      "Setting `pad_token_id` to `eos_token_id`:None for open-end generation.\n"
     ]
    },
    {
     "name": "stdout",
     "output_type": "stream",
     "text": [
      "['Generate a list of 10 names for a new product. Each name on a separate line.', '#!/bin/bash', \"set -e # Don't fail if $! isn't defined at first\", 'if [ -z \"$TMP_DIR\" ]; then', 'echo \"Could not find working directory.\"', 'echo \"Run as root: $0\"', 'exit 1', 'fi', 'if [[ $# == 1 ]]; then # If the user wants to add a new product,', 'echo \"Do you want to generate a list of 10 names for a new product? (y/n): \"', 'read user_input']\n"
     ]
    }
   ],
   "source": [
    "from transformers import pipeline\n",
    "from langchain_huggingface import HuggingFacePipeline\n",
    "\n",
    "# Load the local model and tokenizer\n",
    "hf_pipeline = pipeline(\n",
    "    \"text-generation\",\n",
    "    model=local_model_dir,\n",
    "    tokenizer=local_model_dir,\n",
    "    #max_length=512,\n",
    "    max_new_tokens=128,\n",
    "    truncation=True,\n",
    "    device=0\n",
    ")\n",
    "\n",
    "llm = HuggingFacePipeline(pipeline=hf_pipeline)\n",
    "\n",
    "response = llm.invoke(\"Generate a list of 10 names for a new product. Each name on a separate line.\")\n",
    "name_list = [line.strip() for line in response.split(\"\\n\") if line.strip()]\n",
    "print(name_list)"
   ]
  },
  {
   "cell_type": "code",
   "execution_count": 3,
   "id": "5c328ff3",
   "metadata": {},
   "outputs": [
    {
     "name": "stderr",
     "output_type": "stream",
     "text": [
      "Setting `pad_token_id` to `eos_token_id`:None for open-end generation.\n"
     ]
    },
    {
     "name": "stdout",
     "output_type": "stream",
     "text": [
      "['Suggest 10 creative product names. List only the names, one per line.', \"Include creative words that you consider the most innovative, unusual, innovative or interesting to you that also will make your product stand out in a crowd. It doesn't have to be perfect for every word, but try to include the most unique ideas.\", 'If the idea is just too crazy, then just list some one-off stuff without a list of the creative words.', 'List 10 creative product names.', 'List 10 creative product names.', 'List 10 creative product names.', 'List 10 creative product names.', 'List 10 creative product names.', 'Here are the 10 creative product names of']\n"
     ]
    }
   ],
   "source": [
    "response = llm.invoke(\"Suggest 10 creative product names. List only the names, one per line.\")\n",
    "name_list = [line.strip() for line in response.split(\"\\n\") if line.strip()]\n",
    "print(name_list)"
   ]
  },
  {
   "cell_type": "markdown",
   "id": "304a066e",
   "metadata": {},
   "source": [
    "<div dir=\"rtl\" align=\"right\">\n",
    "\n",
    "### آشنایی با PromptTemplate\n",
    "در این سلول، با مفهوم قالب‌های پرامپت (PromptTemplate) آشنا می‌شویم و یک نمونه ساده با مدل محلی می‌سازیم.\n",
    "\n",
    "</div>"
   ]
  },
  {
   "cell_type": "code",
   "execution_count": 4,
   "id": "074ce468",
   "metadata": {},
   "outputs": [
    {
     "name": "stdout",
     "output_type": "stream",
     "text": [
      "Write a short message in English and in a friendly tone: Welcome to Crypto!\n"
     ]
    }
   ],
   "source": [
    "from langchain_core.prompts import PromptTemplate\n",
    "\n",
    "prompt = PromptTemplate(\n",
    "    template=\"Write a short message in {language} and in a {tone} tone: {message}\",\n",
    "    input_variables=[\"tone\", \"message\", \"language\"],\n",
    ")\n",
    "\n",
    "filled_prompt = prompt.format(tone=\"friendly\", language=\"English\", message=\"Welcome to Crypto!\")\n",
    "print(filled_prompt)"
   ]
  },
  {
   "cell_type": "markdown",
   "id": "4bef4438",
   "metadata": {},
   "source": [
    "<div dir=\"rtl\" align=\"right\">\n",
    "\n",
    "#### استفاده از قالب پرامپت برای تولید پیام با مدل محلی\n",
    "\n",
    "</div>"
   ]
  },
  {
   "cell_type": "code",
   "execution_count": 4,
   "id": "e8d6aaef",
   "metadata": {},
   "outputs": [
    {
     "name": "stderr",
     "output_type": "stream",
     "text": [
      "Setting `pad_token_id` to `eos_token_id`:None for open-end generation.\n"
     ]
    },
    {
     "name": "stdout",
     "output_type": "stream",
     "text": [
      "Write a short message in English and in a friendly tone: Welcome to Crypto! I am so sorry for the delay but I wanted to make sure my followers knew about this website. I love crypto and I am going to teach you everything I know.\n",
      "\n",
      "\n",
      "\n",
      "I am an aspiring professional in my industry and have been working and learning the technology for the last 8 years. I am now a Master’crypto and want to share my knowledge so anyone can learn this wonderful technology. I will answer all questions and give good advice on the best practice tips.\n",
      "\n",
      "\n",
      "\n",
      "Please follow me in order to receive my future newsletter from Crypto!\n",
      "\n",
      "\n",
      "\n",
      "Best!\n",
      "\n",
      "I am an aspiring professional in my industry and have been working and learning the technology for the last 8 years. I am now a Master’crypto and want to share my knowledge so anyone can learn this wonderful technology. I will answer all questions and give good advice on the best practice tips.Please follow me in order to receive my future newsletter from Crypto!\n",
      "\n",
      "\n",
      "\n",
      "Best!\n",
      "\n",
      "\n",
      "\n",
      "\n",
      "\n",
      "\n"
     ]
    }
   ],
   "source": [
    "response = llm.invoke(filled_prompt)\n",
    "print(response)"
   ]
  },
  {
   "cell_type": "code",
   "execution_count": null,
   "id": "04652349",
   "metadata": {},
   "outputs": [
    {
     "name": "stdout",
     "output_type": "stream",
     "text": [
      "Write a short message in English and in a friendly tone: Welcome to Crypto! I am so sorry for the delay but I wanted to make sure my followers knew about this website. I love crypto and I am going to teach you everything I know.\n",
      "\n",
      "\n",
      "\n",
      "I am an aspiring professional in my industry and have been working and learning the technology for the last 8 years. I am now a Master’crypto and want to share my knowledge so anyone can learn this wonderful technology. I will answer all questions and give good advice on the best practice tips.\n",
      "\n",
      "\n",
      "\n",
      "Please follow me in order to receive my future newsletter from Crypto!\n",
      "\n",
      "\n",
      "\n",
      "Best!\n",
      "\n",
      "I am an aspiring professional in my industry and have been working and learning the technology for the last 8 years. I am now a Master’crypto and want to share my knowledge so anyone can learn this wonderful technology. I will answer all questions and give good advice on the best practice tips.Please follow me in order to receive my future newsletter from Crypto!\n",
      "\n",
      "\n",
      "\n",
      "Best!\n",
      "\n",
      "\n",
      "\n",
      "\n",
      "\n",
      "\n"
     ]
    }
   ],
   "source": [
    "lines = response.split('\\n')\n",
    "for line in lines:\n",
    "    print(line.strip())"
   ]
  },
  {
   "cell_type": "code",
   "execution_count": 6,
   "id": "b7589dc6",
   "metadata": {},
   "outputs": [
    {
     "name": "stderr",
     "output_type": "stream",
     "text": [
      "Setting `pad_token_id` to `eos_token_id`:None for open-end generation.\n"
     ]
    },
    {
     "name": "stdout",
     "output_type": "stream",
     "text": [
      "Write a short message in English and in a friendly tone: Welcome to Python Course!\n",
      "Write a short message in English and in a friendly tone: Welcome to Python Course! I’m sure you’ll find this course, designed to help all learners, useful for your day-to-day work and life. If you like this course, please share it with your friends on social media!\n",
      "\n",
      "It’s our aim to help you learn the most advanced language on the planet! And we do this very well. We're not just taking a few courses. We're taking the best of the best and combining them with the newest of the best. It’s the best learning environment we've come across, and it's the best way to learn!\n",
      "\n",
      "Our courses are designed to give you the following (very simple, and very, very useful):\n",
      "\n",
      "The ability to write a script to generate Python code\n",
      "\n",
      "The ability to code and debug software\n",
      "\n",
      "A solid foundation in both programming and software development\n",
      "\n",
      "A solid foundation in both programming and software development\n",
      "\n",
      "A solid foundation for understanding the benefits of using the Python language\n",
      "\n",
      "A solid foundation for understanding the benefits of using the Python language\n",
      "\n",
      "A solid beginner to intermediate Python knowledge\n",
      "\n",
      "In short, it is the best learning experience that we've found so far at Udemy!\n",
      "\n",
      "We're a small team with passion for delivering amazing and engaging learning experiences. And we really hope you see our vision for Udemy and come for this course!\n"
     ]
    }
   ],
   "source": [
    "filled_prompt = prompt.format(tone=\"friendly\", language=\"English\", message=\"Welcome to Python Course!\")\n",
    "print(filled_prompt)\n",
    "response = llm.invoke(filled_prompt)\n",
    "print(response)"
   ]
  },
  {
   "cell_type": "markdown",
   "id": "8edb532c",
   "metadata": {},
   "source": [
    "<div dir=\"rtl\" align=\"right\">\n",
    "\n",
    "## گرفتن خروجی مدل محلی با استفاده از قالب پرامپت\n",
    "در این سلول، پیام ساخته‌شده را به مدل محلی می‌دهیم و خروجی مدل را مشاهده می‌کنیم.\n",
    "\n",
    "</div>"
   ]
  },
  {
   "cell_type": "code",
   "execution_count": 13,
   "id": "9e180b80",
   "metadata": {},
   "outputs": [
    {
     "name": "stderr",
     "output_type": "stream",
     "text": [
      "Setting `pad_token_id` to `eos_token_id`:None for open-end generation.\n",
      "Setting `pad_token_id` to `eos_token_id`:None for open-end generation.\n",
      "Setting `pad_token_id` to `eos_token_id`:None for open-end generation.\n"
     ]
    },
    {
     "name": "stdout",
     "output_type": "stream",
     "text": [
      "Title: Generate a catchy tutorial title in English and in a friendly tone for: How to use LangChain for beginners.\n",
      "\n",
      "What makes this tutorial useful in practice\n",
      "\n",
      "This is not a one-time tutorial. We will continue with the steps we started when this tutorial first appeared in the beginning of 2018. While this tutorial is for beginners, it might work even better if you have an intermediate-level understanding of the English language, but are still seeking some help.\n",
      "\n",
      "In order to find these resources, you should:\n",
      "\n",
      "Inform yourself about LangChain and the differences between the English language and the German language.\n",
      "\n",
      "You should consider that the English language might be very different from the German language, but that it is still the\n",
      "Description: Write a short description for a tutorial titled 'Generate a catchy tutorial title in English and in a friendly tone for: How to use LangChain for beginners?\n",
      "\n",
      "This is the first of three tutorial series where we will build a community by creating a cool community, something we are excited about. You can follow us on:\n",
      "\n",
      "Blog Posts\n",
      "\n",
      "If you have any questions and I’d love to have your help, comment, suggest, or share a resource, drop a note to the blog!\n",
      "\n",
      "You can find the list of resources in my profile. I’ve organized them in categories to make it look more organized and not a direct link to where you can click for the resource.\n",
      "\n",
      "Note: This site contains affiliate links to products. I will' in English and in a friendly tone. The topic is: How to use LangChain for beginners?\n",
      "\n",
      "Tutorial Titels\n",
      "\n",
      "Here are the resources that I’ve prepared, each in a resource category.\n",
      "\n",
      "Tutorial Titles\n",
      "\n",
      "English\n",
      "\n",
      "Tutorial Title - What you need to know\n",
      "\n",
      "Tutorial Title - How to use LangChain for beginners?\n",
      "\n",
      "Tutorial Title - LangChain for beginners\n",
      "\n",
      "Your Name (optional) | Tutorial Title - What you need to know\n",
      "\n",
      "Your Name (optional) | Tutorial Title - How to use LangChain for beginners?\n",
      "\n",
      "Your Name (optional) | Tutorial Title - LangChain for beginners\n",
      "\n",
      "Your Name | Tutorial Title -\n"
     ]
    }
   ],
   "source": [
    "from langchain_core.prompts import PromptTemplate\n",
    "from langchain_core.output_parsers import StrOutputParser\n",
    "from langchain_core.runnables import RunnablePassthrough\n",
    "\n",
    "# Title prompt template\n",
    "prompt_title = PromptTemplate(\n",
    "    template=\"Generate a catchy tutorial title in {language} and in a {tone} tone for: {message}\",\n",
    "    input_variables=[\"tone\", \"message\", \"language\"],\n",
    ")\n",
    "\n",
    "# Description prompt template\n",
    "prompt_desc = PromptTemplate(\n",
    "    template=\"Write a short description for a tutorial titled '{title}' in {language} and in a {tone} tone. The topic is: {message}\",\n",
    "    input_variables=[\"tone\", \"message\", \"language\", \"title\"],\n",
    ")\n",
    "\n",
    "# Output parser\n",
    "output_parser = StrOutputParser()\n",
    "\n",
    "# Title chain\n",
    "title_chain = prompt_title | llm | output_parser\n",
    "\n",
    "# Description chain (takes the output of title_chain)\n",
    "desc_chain = (\n",
    "    RunnablePassthrough.assign(title=title_chain)\n",
    "    | prompt_desc\n",
    "    | llm\n",
    "    | output_parser\n",
    ")\n",
    "\n",
    "# Example inputs\n",
    "inputs = {\"tone\": \"friendly\", \"language\": \"English\", \"message\": \"How to use LangChain for beginners\"}\n",
    "\n",
    "title = title_chain.invoke(inputs)\n",
    "description = desc_chain.invoke(inputs)\n",
    "\n",
    "print(\"Title:\", title)\n",
    "print(\"Description:\", description)"
   ]
  },
  {
   "cell_type": "markdown",
   "id": "56c61e56",
   "metadata": {},
   "source": [
    "<div dir=\"rtl\" align=\"right\">\n",
    "\n",
    "## پیاده‌سازی زنجیره تولید عنوان و توضیح آموزش با مدل محلی\n",
    "در این سلول، دو زنجیره ساده برای تولید عنوان و توضیح آموزش با مدل محلی پیاده‌سازی می‌کنیم و نتیجه را نمایش می‌دهیم.\n",
    "\n",
    "</div>"
   ]
  },
  {
   "cell_type": "code",
   "execution_count": 14,
   "id": "0446c36a",
   "metadata": {},
   "outputs": [
    {
     "name": "stderr",
     "output_type": "stream",
     "text": [
      "Setting `pad_token_id` to `eos_token_id`:None for open-end generation.\n",
      "Setting `pad_token_id` to `eos_token_id`:None for open-end generation.\n",
      "Setting `pad_token_id` to `eos_token_id`:None for open-end generation.\n"
     ]
    },
    {
     "name": "stdout",
     "output_type": "stream",
     "text": [
      "Title: Generate a catchy tutorial title in Persian and in a friendly tone for: How to use LangChain for beginners/students (in English language)!\n",
      "\n",
      "LangChain – a very powerful and very useful tool for studying or practicing Persian language. In this post, we’ve created an introductory article to learn more about LangChain. For more information on LangChain, check the web page link: http://langchain.com/\n",
      "\n",
      "What is LangChain?\n",
      "\n",
      "LangChain is the most complete and professional tool for learning Persian. However, like almost any modern language learning tool, LangChain is free. There aren’t any hidden costs to LangChain, its users, or its developer.\n",
      "\n",
      "Lang\n",
      "Description: Write a short description for a tutorial titled 'Generate a catchy tutorial title in Persian and in a friendly tone for: How to use LangChain for beginners\n",
      "\n",
      "Welcome to this page. Today we will learn how to use LangChain for beginners. LangChain is an advanced language learning service that provides a powerful and versatile language learning tool. If you are looking to learn a new language and are looking to save time in your daily language learning, LangChain can help you.\n",
      "\n",
      "LangChain helps you develop the confidence and proficiency of learning a new language in the shortest amount of time. Since LangChain was written for a larger number of people with different languages and culture backgrounds, there is an opportunity for you to learn a language in a way that best suits your personality to achieve a higher' in Persian and in a friendly tone. The topic is: How to use LangChain for beginners.\n",
      "\n",
      "You will find a guide on how to install and configure LangChain and on how to use the tool, if it is of interest to you. You can also find information on how langchain is organized and on the LangChain website.\n",
      "\n",
      "It is our hope that you will use LangChain on your own. If you prefer to help, we are also ready to help you.\n",
      "\n",
      "LangChain is an advanced language learning service that provides a powerful and versatile language learning tool. It provides one of the easiest means of learning a language that is based on audio material through a language training tool, in a friendly tone\n"
     ]
    }
   ],
   "source": [
    "from langchain_core.prompts import PromptTemplate\n",
    "from langchain_core.output_parsers import StrOutputParser\n",
    "from langchain_core.runnables import RunnablePassthrough\n",
    "\n",
    "# Title prompt template\n",
    "prompt_title = PromptTemplate(\n",
    "    template=\"Generate a catchy tutorial title in {language} and in a {tone} tone for: {message}\",\n",
    "    input_variables=[\"tone\", \"message\", \"language\"],\n",
    ")\n",
    "\n",
    "# Description prompt template\n",
    "prompt_desc = PromptTemplate(\n",
    "    template=\"Write a short description for a tutorial titled '{title}' in {language} and in a {tone} tone. The topic is: {message}\",\n",
    "    input_variables=[\"tone\", \"message\", \"language\", \"title\"],\n",
    ")\n",
    "\n",
    "# Output parser\n",
    "output_parser = StrOutputParser()\n",
    "\n",
    "# Title chain\n",
    "title_chain = prompt_title | llm | output_parser\n",
    "\n",
    "# Description chain (takes the output of title_chain)\n",
    "desc_chain = (\n",
    "    RunnablePassthrough.assign(title=title_chain)\n",
    "    | prompt_desc\n",
    "    | llm\n",
    "    | output_parser\n",
    ")\n",
    "\n",
    "# Example inputs\n",
    "inputs = {\"tone\": \"friendly\", \"language\": \"Persian\", \"message\": \"How to use LangChain for beginners\"}\n",
    "\n",
    "title = title_chain.invoke(inputs)\n",
    "description = desc_chain.invoke(inputs)\n",
    "\n",
    "print(\"Title:\", title)\n",
    "print(\"Description:\", description)"
   ]
  },
  {
   "cell_type": "markdown",
   "id": "94adc183",
   "metadata": {},
   "source": [
    "<div dir=\"rtl\" align=\"right\">\n",
    "\n",
    "الان می‌تونید با تغییر «tone»، «language» یا «message» در دیکشنری «inputs» آزمایش کنید تا ببینید عنوان و توضیحات چجوری تغییر می‌کنند. این نشون میده که چجوری زنجیره‌ها به ما امکان می‌دهند گردش‌های کاری پیچیده‌تر و ماژولارتری را در LangChain با مدل محلی بسازیم.\n",
    "\n",
    "</div>"
   ]
  }
 ],
 "metadata": {
  "kernelspec": {
   "display_name": "base",
   "language": "python",
   "name": "python3"
  },
  "language_info": {
   "codemirror_mode": {
    "name": "ipython",
    "version": 3
   },
   "file_extension": ".py",
   "mimetype": "text/x-python",
   "name": "python",
   "nbconvert_exporter": "python",
   "pygments_lexer": "ipython3",
   "version": "3.8.8"
  }
 },
 "nbformat": 4,
 "nbformat_minor": 5
}
