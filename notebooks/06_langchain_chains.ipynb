{
 "cells": [
  {
   "cell_type": "markdown",
   "id": "9777a240",
   "metadata": {},
   "source": [
    "<div dir=\"rtl\" align=\"right\">\n",
    "\n",
    "# بخش ۶: زنجیره‌ها (Chains) در LangChain\n",
    "\n",
    "در این بخش با مفهوم زنجیره‌ها (Chains) در LangChain آشنا می‌شویم و یاد می‌گیریم چطور چند مرحله مختلف را به هم متصل کنیم تا یک جریان کاری پیچیده‌تر بسازیم.\n",
    "\n",
    "## اهداف یادگیری\n",
    "- آشنایی با مفهوم Chain و کاربرد آن در LangChain\n",
    "- ساخت زنجیره‌های ساده و چندمرحله‌ای\n",
    "- استفاده از حافظه در زنجیره‌ها\n",
    "- تفاوت Chain و Agent\n",
    "- تمرین عملی و جمع‌بندی\n",
    "\n",
    "## فهرست مطالب\n",
    "1. مقدمه\n",
    "2. معرفی LLMChain و PromptTemplate\n",
    "3. ساخت زنجیره‌های چندمرحله‌ای (SequentialChain)\n",
    "4. استفاده از memory در زنجیره‌ها\n",
    "5. مثال پیشرفته: ConversationalChain\n",
    "6. مقایسه Chain و Agent\n",
    "7. تمرین و جمع‌بندی\n",
    "\n",
    "</div>"
   ]
  },
  {
   "cell_type": "code",
   "execution_count": 18,
   "id": "a152676a",
   "metadata": {},
   "outputs": [],
   "source": [
    "from dotenv import load_dotenv\n",
    "import os\n",
    "\n",
    "load_dotenv()\n",
    "openai_api_key = os.getenv(\"OPENAI_API_KEY\")\n",
    "\n",
    "from langchain_openai import ChatOpenAI\n",
    "\n",
    "llm = ChatOpenAI(model=\"gpt-3.5-turbo\", temperature=0.3)"
   ]
  },
  {
   "cell_type": "markdown",
   "id": "31b74111",
   "metadata": {},
   "source": [
    "<div dir=\"rtl\" align=\"right\">\n",
    "\n",
    "---\n",
    "\n",
    "### ۲. معرفی LLMChain و PromptTemplate\n",
    "\n",
    "**ساختار LLMChain:**  \n",
    "LLMChain یکی از ساده‌ترین انواع زنجیره‌هاست که از دو بخش اصلی تشکیل می‌شود:  \n",
    "- یک مدل زبانی (LLM)\n",
    "- یک قالب پرامپت (PromptTemplate)\n",
    "\n",
    "**مفهوم PromptTemplate:**  \n",
    "PromptTemplate به ما اجازه می‌دهد قالبی برای پرامپت بسازیم و بخش‌هایی از آن را با داده‌های واقعی جایگزین کنیم. به این ترتیب، می‌توانیم ورودی‌های پویا به مدل بدهیم.\n",
    "\n",
    "**مثال ساده:**  \n",
    "در این مثال، یک زنجیره می‌سازیم که یک سؤال از کاربر می‌گیرد و پاسخ مدل را برمی‌گرداند.\n",
    "\n",
    "</div>"
   ]
  },
  {
   "cell_type": "code",
   "execution_count": 19,
   "id": "28ba0714",
   "metadata": {},
   "outputs": [
    {
     "name": "stdout",
     "output_type": "stream",
     "text": [
      " پایتون یک زبان برنامه نویسی قدرتمند و پرکاربرد است که توسط گویدو وان روسوم (Guido van Rossum) در دهه ۱۹۹۰ توسعه یافته است. این زبان برنامه نویسی دارای سینتکس ساده و قابل فهم است که امکانات متنوعی برای توسعه نرم افزارهای مختلف ارائه می‌دهد. پایتون برای برنامه نویسی وب، توسعه نرم افزار، علوم داده، هوش مصنوعی و بسیاری از حوزه‌های دیگر استفاده می‌شود.\n"
     ]
    }
   ],
   "source": [
    "from langchain.prompts import PromptTemplate\n",
    "from langchain.chains import LLMChain\n",
    "\n",
    "\n",
    "prompt = PromptTemplate(\n",
    "    template=\"سوال: {question}\\nپاسخ:\",\n",
    "    input_variables=[\"question\"]\n",
    ")\n",
    "\n",
    "chain = LLMChain(llm=llm, prompt=prompt)\n",
    "\n",
    "result = chain.run(\"پایتون چیست؟\")\n",
    "print(result)"
   ]
  },
  {
   "cell_type": "markdown",
   "id": "9d40ea0c",
   "metadata": {},
   "source": [
    "<div dir=\"rtl\" align=\"right\">\n",
    "\n",
    "---\n",
    "\n",
    "### ۳. ساخت زنجیره‌های چندمرحله‌ای (SequentialChain)\n",
    "\n",
    "**اتصال چند زنجیره:**  \n",
    "گاهی لازم است چند مرحله مختلف را به هم وصل کنیم؛ مثلاً ابتدا یک عنوان بسازیم، بعد توضیحی برای آن بنویسیم و در نهایت یک توییت تولید کنیم.\n",
    "\n",
    "**SimpleSequentialChain و SequentialChain:**  \n",
    "- `SimpleSequentialChain`: خروجی هر مرحله را به عنوان ورودی مرحله بعدی استفاده می‌کند (مناسب برای زنجیره‌های خطی ساده).\n",
    "- `SequentialChain`: انعطاف‌پذیرتر است و می‌تواند چند ورودی و خروجی مختلف را مدیریت کند.\n",
    "\n",
    "**مثال:**  \n",
    "تبدیل عنوان به توضیح و سپس تولید توییت برای آن توضیح:\n",
    "\n",
    "</div>"
   ]
  },
  {
   "cell_type": "code",
   "execution_count": 20,
   "id": "ca8ccecb",
   "metadata": {},
   "outputs": [
    {
     "name": "stderr",
     "output_type": "stream",
     "text": [
      "Error in StdOutCallbackHandler.on_chain_start callback: AttributeError(\"'NoneType' object has no attribute 'get'\")\n"
     ]
    },
    {
     "name": "stderr",
     "output_type": "stream",
     "text": [
      "Error in StdOutCallbackHandler.on_chain_start callback: AttributeError(\"'NoneType' object has no attribute 'get'\")\n"
     ]
    },
    {
     "name": "stdout",
     "output_type": "stream",
     "text": [
      "\u001b[36;1m\u001b[1;3m\"راهنمای کامل برای آموزش زنجیره‌ها در LangChain\"\u001b[0m\n",
      "\u001b[33;1m\u001b[1;3mدر این راهنما، شما یاد خواهید گرفت چگونه زنجیره‌ها را در LangChain ایجاد کنید و مدیریت کنید. از شروع تا پایان، تمام مراحل ایجاد و استفاده از زنجیره‌ها به طور جامع شرح داده شده است. این آموزش شامل مراحل ایجاد زنجیره، افزودن بلوک‌ها، تأیید تراکنش‌ها و مدیریت امنیت زنجیره می‌باشد. با دنبال کردن این راهنما، می‌توانید به راحتی با زنجیره‌ها در LangChain آشنا شوید و از آنها بهره‌مند شوید.\u001b[0m\n",
      "\u001b[33;1m\u001b[1;3mدر این راهنما، شما یاد خواهید گرفت چگونه زنجیره‌ها را در LangChain ایجاد کنید و مدیریت کنید. از شروع تا پایان، تمام مراحل ایجاد و استفاده از زنجیره‌ها به طور جامع شرح داده شده است. این آموزش شامل مراحل ایجاد زنجیره، افزودن بلوک‌ها، تأیید تراکنش‌ها و مدیریت امنیت زنجیره می‌باشد. با دنبال کردن این راهنما، می‌توانید به راحتی با زنجیره‌ها در LangChain آشنا شوید و از آنها بهره‌مند شوید.\u001b[0m\n",
      "\u001b[38;5;200m\u001b[1;3mآیا می‌خواهید بدانید چگونه زنجیره‌ها را در LangChain ایجاد و مدیریت کنید؟ این راهنما همه چیز را برای شما شرح می‌دهد! از ایجاد زنجیره تا افزودن بلوک‌ها و تأیید تراکنش‌ها، همه چیز در اینجاست. با دنبال کردن این راهنما، به راحتی با زنجیره‌ها آشنا شوید و از آنها بهره‌مند شوید. #LangChain #BlockchainTutorial\u001b[0m\n",
      "\n",
      "\u001b[1m> Finished chain.\u001b[0m\n",
      "آیا می‌خواهید بدانید چگونه زنجیره‌ها را در LangChain ایجاد و مدیریت کنید؟ این راهنما همه چیز را برای شما شرح می‌دهد! از ایجاد زنجیره تا افزودن بلوک‌ها و تأیید تراکنش‌ها، همه چیز در اینجاست. با دنبال کردن این راهنما، به راحتی با زنجیره‌ها آشنا شوید و از آنها بهره‌مند شوید. #LangChain #BlockchainTutorial\n",
      "\u001b[38;5;200m\u001b[1;3mآیا می‌خواهید بدانید چگونه زنجیره‌ها را در LangChain ایجاد و مدیریت کنید؟ این راهنما همه چیز را برای شما شرح می‌دهد! از ایجاد زنجیره تا افزودن بلوک‌ها و تأیید تراکنش‌ها، همه چیز در اینجاست. با دنبال کردن این راهنما، به راحتی با زنجیره‌ها آشنا شوید و از آنها بهره‌مند شوید. #LangChain #BlockchainTutorial\u001b[0m\n",
      "\n",
      "\u001b[1m> Finished chain.\u001b[0m\n",
      "آیا می‌خواهید بدانید چگونه زنجیره‌ها را در LangChain ایجاد و مدیریت کنید؟ این راهنما همه چیز را برای شما شرح می‌دهد! از ایجاد زنجیره تا افزودن بلوک‌ها و تأیید تراکنش‌ها، همه چیز در اینجاست. با دنبال کردن این راهنما، به راحتی با زنجیره‌ها آشنا شوید و از آنها بهره‌مند شوید. #LangChain #BlockchainTutorial\n"
     ]
    }
   ],
   "source": [
    "from langchain.chains import SimpleSequentialChain, LLMChain\n",
    "from langchain.prompts import PromptTemplate\n",
    "\n",
    "title_prompt = PromptTemplate(template=\"یک عنوان برای آموزش {topic} بنویس.\", input_variables=[\"topic\"])\n",
    "desc_prompt = PromptTemplate(template=\"یک توضیح کوتاه برای آموزش با عنوان '{title}' بنویس.\", input_variables=[\"title\"])\n",
    "tweet_prompt = PromptTemplate(template=\"یک توییت جذاب برای این توضیح بنویس: {description}\", input_variables=[\"description\"])\n",
    "\n",
    "title_chain = LLMChain(llm=llm, prompt=title_prompt)\n",
    "desc_chain = LLMChain(llm=llm, prompt=desc_prompt)\n",
    "tweet_chain = LLMChain(llm=llm, prompt=tweet_prompt)\n",
    "\n",
    "overall_chain = SimpleSequentialChain(chains=[title_chain, desc_chain, tweet_chain], verbose=True)\n",
    "\n",
    "result = overall_chain.run(\"زنجیره‌ها در LangChain\")\n",
    "print(result)"
   ]
  },
  {
   "cell_type": "markdown",
   "id": "6a882b59",
   "metadata": {},
   "source": [
    "<div dir=\"rtl\" align=\"right\">\n",
    "\n",
    "---\n",
    "\n",
    "### ۴. استفاده از memory در زنجیره‌ها\n",
    "\n",
    "**نگهداری اطلاعات مکالمه:**  \n",
    "برای ساخت چت‌بات یا سیستم‌های تعاملی، باید بتوانیم اطلاعات گفتگوهای قبلی را نگه داریم.\n",
    "\n",
    "**ConversationBufferMemory و ConversationSummaryMemory:**  \n",
    "این ابزارها به LLMChain اضافه می‌شوند تا حافظه کوتاه‌مدت یا خلاصه‌ای از مکالمه را ذخیره کنند.\n",
    "\n",
    "**مثال:**  \n",
    "ساخت یک چت‌بات ساده با حافظه:\n",
    "\n",
    "</div>"
   ]
  },
  {
   "cell_type": "code",
   "execution_count": 21,
   "id": "1513f997",
   "metadata": {},
   "outputs": [
    {
     "name": "stdout",
     "output_type": "stream",
     "text": [
      " سلام! من خوبم، ممنون که پرسیدید. شما چطورید؟\n",
      " LangChain یک پلتفرم ترجمه متن و گفتار است که از تکنولوژی هوش مصنوعی برای ارائه خدمات ترجمه با کیفیت و سرعت بالا استفاده می‌کند. این پلتفرم قادر است متون و گفتارهای مختلف را به زبان‌های مختلف ترجمه کند و به کاربران کمک کند تا به راحتی و با دقت بالا ارتباط برقرار کنند.\n",
      " LangChain یک پلتفرم ترجمه متن و گفتار است که از تکنولوژی هوش مصنوعی برای ارائه خدمات ترجمه با کیفیت و سرعت بالا استفاده می‌کند. این پلتفرم قادر است متون و گفتارهای مختلف را به زبان‌های مختلف ترجمه کند و به کاربران کمک کند تا به راحتی و با دقت بالا ارتباط برقرار کنند.\n"
     ]
    }
   ],
   "source": [
    "from langchain.memory import ConversationBufferMemory\n",
    "from langchain.chains import LLMChain\n",
    "from langchain.prompts import PromptTemplate\n",
    "\n",
    "memory = ConversationBufferMemory()\n",
    "\n",
    "prompt = PromptTemplate(\n",
    "    template=\"سابقه مکالمه:\\n{history}\\nکاربر: {input}\\nدستیار:\",\n",
    "    input_variables=[\"history\", \"input\"]\n",
    ")\n",
    "\n",
    "chat_chain = LLMChain(llm=llm, prompt=prompt, memory=memory)\n",
    "\n",
    "response = chat_chain.run(\"سلام! حالت چطوره؟\")\n",
    "print(response)\n",
    "response = chat_chain.run(\"درباره LangChain توضیح بده.\")\n",
    "print(response)"
   ]
  },
  {
   "cell_type": "markdown",
   "id": "a016bb83",
   "metadata": {},
   "source": [
    "<div dir=\"rtl\" align=\"right\">\n",
    "\n",
    "#### نسخه پیشرفته با ConversationSummaryMemory و استفاده همزمان از Groq و OpenAI\n",
    "\n",
    "در این مثال، از `ConversationSummaryMemory` برای خلاصه‌سازی مکالمه استفاده می‌کنیم. همچنین، مدل OpenAI برای مکالمه اصلی و مدل Groq (مثلاً llama3) برای خلاصه‌سازی حافظه به کار می‌رود.\n",
    "\n",
    "- **ConversationSummaryMemory**: به جای ذخیره کل تاریخچه، خلاصه‌ای از مکالمه را نگه می‌دارد.\n",
    "- **llm**: مدل مکالمه (OpenAI)\n",
    "- **summary_llm**: مدل خلاصه‌ساز (Groq)\n",
    "\n",
    "</div>"
   ]
  },
  {
   "cell_type": "code",
   "execution_count": 24,
   "id": "7319971f",
   "metadata": {},
   "outputs": [
    {
     "name": "stdout",
     "output_type": "stream",
     "text": [
      "خلاصه‌شده: Current summary: (empty)\n",
      "\n",
      "New lines of conversation:\n",
      "Human: سلام! حالت چطوره؟\n",
      "AI:  سلام! من خوبم، ممنون که پرسیدید. شما چطورید؟\n",
      "\n",
      "New summary: The conversation starts with the human greeting the AI with \"سلام! حالت چطوره؟\" (Hello! How are you?), to which the AI responds with a friendly greeting and a positive statement about its own state, and then asks about the human's state.\n",
      "\n",
      "کاربر: سلام! حالت چطوره؟\n",
      "دستیار:  سلام! من خوبم، ممنون که پرسیدید. شما چطورید؟\n",
      "----------------------------------------\n",
      "خلاصه‌شده: Current summary: The conversation starts with the human greeting the AI with \"سلام! حالت چطوره؟\" (Hello! How are you?), to which the AI responds with a friendly greeting and a positive statement about its own state, and then asks about the human's state.\n",
      "\n",
      "New lines of conversation:\n",
      "Human: اسم من محمد است. اسم تو چیه؟\n",
      "AI:  اسم من دستیار است. خوشحالم که با شما صحبت می‌کنم، محمد.\n",
      "\n",
      "New summary: The conversation starts with the human greeting the AI with \"سلام! حالت چطوره؟\" (Hello! How are you?), to which the AI responds with a friendly greeting and a positive statement about its own state, and then asks about the human's state. The human introduces himself as Muhammad, and the AI introduces itself as a helper, expressing its happiness to be talking to Muhammad.\n",
      "\n",
      "کاربر: اسم من محمد است. اسم تو چیه؟\n",
      "دستیار:  اسم من دستیار است. خوشحالم که با شما صحبت می‌کنم، محمد.\n",
      "----------------------------------------\n",
      "خلاصه‌شده: Current summary: The conversation starts with the human greeting the AI with \"سلام! حالت چطوره؟\" (Hello! How are you?), to which the AI responds with a friendly greeting and a positive statement about its own state, and then asks about the human's state.\n",
      "\n",
      "New lines of conversation:\n",
      "Human: اسم من محمد است. اسم تو چیه؟\n",
      "AI:  اسم من دستیار است. خوشحالم که با شما صحبت می‌کنم، محمد.\n",
      "\n",
      "New summary: The conversation starts with the human greeting the AI with \"سلام! حالت چطوره؟\" (Hello! How are you?), to which the AI responds with a friendly greeting and a positive statement about its own state, and then asks about the human's state. The human introduces himself as Muhammad, and the AI introduces itself as a helper, expressing its happiness to be talking to Muhammad.\n",
      "\n",
      "کاربر: اسم من محمد است. اسم تو چیه؟\n",
      "دستیار:  اسم من دستیار است. خوشحالم که با شما صحبت می‌کنم، محمد.\n",
      "----------------------------------------\n",
      "خلاصه‌شده: Current summary: The conversation starts with the human greeting the AI with \"سلام! حالت چطوره؟\" (Hello! How are you?), to which the AI responds with a friendly greeting and a positive statement about its own state, and then asks about the human's state. The human introduces himself as Muhammad, and the AI introduces itself as a helper, expressing its happiness to be talking to Muhammad.\n",
      "\n",
      "New lines of conversation:\n",
      "Human: یادته من چی پرسیدم؟\n",
      "AI:  شما اسم خودتون رو به من گفتید و من هم اسمم رو به شما معرفی کردم.\n",
      "\n",
      "New summary: The conversation starts with the human greeting the AI with \"سلام! حالت چطوره؟\" (Hello! How are you?), to which the AI responds with a friendly greeting and a positive statement about its own state, and then asks about the human's state. The human introduces himself as Muhammad, and the AI introduces itself as a helper, expressing its happiness to be talking to Muhammad. The human then asks if the AI remembers what he asked, and the AI responds that the human introduced himself and the AI introduced its own name.\n",
      "\n",
      "کاربر: یادته من چی پرسیدم؟\n",
      "دستیار:  شما اسم خودتون رو به من گفتید و من هم اسمم رو به شما معرفی کردم.\n",
      "----------------------------------------\n",
      "خلاصه‌شده: Current summary: The conversation starts with the human greeting the AI with \"سلام! حالت چطوره؟\" (Hello! How are you?), to which the AI responds with a friendly greeting and a positive statement about its own state, and then asks about the human's state. The human introduces himself as Muhammad, and the AI introduces itself as a helper, expressing its happiness to be talking to Muhammad.\n",
      "\n",
      "New lines of conversation:\n",
      "Human: یادته من چی پرسیدم؟\n",
      "AI:  شما اسم خودتون رو به من گفتید و من هم اسمم رو به شما معرفی کردم.\n",
      "\n",
      "New summary: The conversation starts with the human greeting the AI with \"سلام! حالت چطوره؟\" (Hello! How are you?), to which the AI responds with a friendly greeting and a positive statement about its own state, and then asks about the human's state. The human introduces himself as Muhammad, and the AI introduces itself as a helper, expressing its happiness to be talking to Muhammad. The human then asks if the AI remembers what he asked, and the AI responds that the human introduced himself and the AI introduced its own name.\n",
      "\n",
      "کاربر: یادته من چی پرسیدم؟\n",
      "دستیار:  شما اسم خودتون رو به من گفتید و من هم اسمم رو به شما معرفی کردم.\n",
      "----------------------------------------\n",
      "خلاصه‌شده: Current summary: The conversation starts with the human greeting the AI with \"سلام! حالت چطوره؟\" (Hello! How are you?), to which the AI responds with a friendly greeting and a positive statement about its own state, and then asks about the human's state. The human introduces himself as Muhammad, and the AI introduces itself as a helper, expressing its happiness to be talking to Muhammad. The human then asks if the AI remembers what he asked, and the AI responds that the human introduced himself and the AI introduced its own name.\n",
      "\n",
      "New lines of conversation:\n",
      "Human: درباره LangChain توضیح بده.\n",
      "AI:  LangChain یک پلتفرم ترجمه و تفسیر زبان‌های مختلف است که از هوش مصنوعی برای ارائه خدمات ترجمه و تفسیر به کاربران استفاده می‌کند.\n",
      "\n",
      "New summary: The conversation starts with the human greeting the AI with \"سلام! حالت چطوره؟\" (Hello! How are you?), to which the AI responds with a friendly greeting and a positive statement about its own state, and then asks about the human's state. The human introduces himself as Muhammad, and the AI introduces itself as a helper, expressing its happiness to be talking to Muhammad. The human then asks if the AI remembers what he asked, and the AI responds that the human introduced himself and the AI introduced its own name. The human then asks about LangChain, and the AI explains that LangChain is a platform for translation and interpretation of different languages, using artificial intelligence to provide translation and interpretation services to users.\n",
      "\n",
      "کاربر: درباره LangChain توضیح بده.\n",
      "دستیار:  LangChain یک پلتفرم ترجمه و تفسیر زبان‌های مختلف است که از هوش مصنوعی برای ارائه خدمات ترجمه و تفسیر به کاربران استفاده می‌کند.\n",
      "----------------------------------------\n",
      "خلاصه‌شده: Current summary: The conversation starts with the human greeting the AI with \"سلام! حالت چطوره؟\" (Hello! How are you?), to which the AI responds with a friendly greeting and a positive statement about its own state, and then asks about the human's state. The human introduces himself as Muhammad, and the AI introduces itself as a helper, expressing its happiness to be talking to Muhammad. The human then asks if the AI remembers what he asked, and the AI responds that the human introduced himself and the AI introduced its own name.\n",
      "\n",
      "New lines of conversation:\n",
      "Human: درباره LangChain توضیح بده.\n",
      "AI:  LangChain یک پلتفرم ترجمه و تفسیر زبان‌های مختلف است که از هوش مصنوعی برای ارائه خدمات ترجمه و تفسیر به کاربران استفاده می‌کند.\n",
      "\n",
      "New summary: The conversation starts with the human greeting the AI with \"سلام! حالت چطوره؟\" (Hello! How are you?), to which the AI responds with a friendly greeting and a positive statement about its own state, and then asks about the human's state. The human introduces himself as Muhammad, and the AI introduces itself as a helper, expressing its happiness to be talking to Muhammad. The human then asks if the AI remembers what he asked, and the AI responds that the human introduced himself and the AI introduced its own name. The human then asks about LangChain, and the AI explains that LangChain is a platform for translation and interpretation of different languages, using artificial intelligence to provide translation and interpretation services to users.\n",
      "\n",
      "کاربر: درباره LangChain توضیح بده.\n",
      "دستیار:  LangChain یک پلتفرم ترجمه و تفسیر زبان‌های مختلف است که از هوش مصنوعی برای ارائه خدمات ترجمه و تفسیر به کاربران استفاده می‌کند.\n",
      "----------------------------------------\n",
      "خلاصه‌شده: Current summary: The conversation starts with the human greeting the AI with \"سلام! حالت چطوره؟\" (Hello! How are you?), to which the AI responds with a friendly greeting and a positive statement about its own state, and then asks about the human's state. The human introduces himself as Muhammad, and the AI introduces itself as a helper, expressing its happiness to be talking to Muhammad. The human then asks if the AI remembers what he asked, and the AI responds that the human introduced himself and the AI introduced its own name. The human then asks about LangChain, and the AI explains that LangChain is a platform for translation and interpretation of different languages, using artificial intelligence to provide translation and interpretation services to users.\n",
      "\n",
      "New lines of conversation:\n",
      "Human: آیا می‌تونی خلاصه‌ای از مکالمه ما تا اینجا بگی؟\n",
      "AI: مکالمه ما تا اینجا شامل پرسش و پاسخ‌های مختلف درباره حال هر دوی ما، معرفی خودمان و سپس بحث در مورد LangChain بود که یک پلتفرم ترجمه و تفسیر زبان‌های مختلف است که از هوش مصنوعی برای ارائه خدمات ترجمه و تفسیر به کاربران استفاده می‌کند.\n",
      "\n",
      "New summary: The conversation starts with the human greeting the AI with \"سلام! حالت چطوره؟\" (Hello! How are you?), to which the AI responds with a friendly greeting and a positive statement about its own state, and then asks about the human's state. The human introduces himself as Muhammad, and the AI introduces itself as a helper, expressing its happiness to be talking to Muhammad. The human then asks if the AI remembers what he asked, and the AI responds that the human introduced himself and the AI introduced its own name. The human then asks about LangChain, and the AI explains that LangChain is a platform for translation and interpretation of different languages, using artificial intelligence to provide translation and interpretation services to users. The human then asks the AI to summarize the conversation so far, and the AI provides a summary of the conversation, including the introduction, the discussion about LangChain, and the human's request for a summary.\n",
      "\n",
      "کاربر: آیا می‌تونی خلاصه‌ای از مکالمه ما تا اینجا بگی؟\n",
      "دستیار: مکالمه ما تا اینجا شامل پرسش و پاسخ‌های مختلف درباره حال هر دوی ما، معرفی خودمان و سپس بحث در مورد LangChain بود که یک پلتفرم ترجمه و تفسیر زبان‌های مختلف است که از هوش مصنوعی برای ارائه خدمات ترجمه و تفسیر به کاربران استفاده می‌کند.\n",
      "----------------------------------------\n",
      "----------------------------------\n",
      "خلاصه نهایی: Current summary: The conversation starts with the human greeting the AI with \"سلام! حالت چطوره؟\" (Hello! How are you?), to which the AI responds with a friendly greeting and a positive statement about its own state, and then asks about the human's state. The human introduces himself as Muhammad, and the AI introduces itself as a helper, expressing its happiness to be talking to Muhammad. The human then asks if the AI remembers what he asked, and the AI responds that the human introduced himself and the AI introduced its own name. The human then asks about LangChain, and the AI explains that LangChain is a platform for translation and interpretation of different languages, using artificial intelligence to provide translation and interpretation services to users.\n",
      "\n",
      "New lines of conversation:\n",
      "Human: آیا می‌تونی خلاصه‌ای از مکالمه ما تا اینجا بگی؟\n",
      "AI: مکالمه ما تا اینجا شامل پرسش و پاسخ‌های مختلف درباره حال هر دوی ما، معرفی خودمان و سپس بحث در مورد LangChain بود که یک پلتفرم ترجمه و تفسیر زبان‌های مختلف است که از هوش مصنوعی برای ارائه خدمات ترجمه و تفسیر به کاربران استفاده می‌کند.\n",
      "\n",
      "New summary: The conversation starts with the human greeting the AI with \"سلام! حالت چطوره؟\" (Hello! How are you?), to which the AI responds with a friendly greeting and a positive statement about its own state, and then asks about the human's state. The human introduces himself as Muhammad, and the AI introduces itself as a helper, expressing its happiness to be talking to Muhammad. The human then asks if the AI remembers what he asked, and the AI responds that the human introduced himself and the AI introduced its own name. The human then asks about LangChain, and the AI explains that LangChain is a platform for translation and interpretation of different languages, using artificial intelligence to provide translation and interpretation services to users. The human then asks the AI to summarize the conversation so far, and the AI provides a summary of the conversation, including the introduction, the discussion about LangChain, and the human's request for a summary.\n",
      "\n",
      "خلاصه‌شده: Current summary: The conversation starts with the human greeting the AI with \"سلام! حالت چطوره؟\" (Hello! How are you?), to which the AI responds with a friendly greeting and a positive statement about its own state, and then asks about the human's state. The human introduces himself as Muhammad, and the AI introduces itself as a helper, expressing its happiness to be talking to Muhammad. The human then asks if the AI remembers what he asked, and the AI responds that the human introduced himself and the AI introduced its own name. The human then asks about LangChain, and the AI explains that LangChain is a platform for translation and interpretation of different languages, using artificial intelligence to provide translation and interpretation services to users.\n",
      "\n",
      "New lines of conversation:\n",
      "Human: آیا می‌تونی خلاصه‌ای از مکالمه ما تا اینجا بگی؟\n",
      "AI: مکالمه ما تا اینجا شامل پرسش و پاسخ‌های مختلف درباره حال هر دوی ما، معرفی خودمان و سپس بحث در مورد LangChain بود که یک پلتفرم ترجمه و تفسیر زبان‌های مختلف است که از هوش مصنوعی برای ارائه خدمات ترجمه و تفسیر به کاربران استفاده می‌کند.\n",
      "\n",
      "New summary: The conversation starts with the human greeting the AI with \"سلام! حالت چطوره؟\" (Hello! How are you?), to which the AI responds with a friendly greeting and a positive statement about its own state, and then asks about the human's state. The human introduces himself as Muhammad, and the AI introduces itself as a helper, expressing its happiness to be talking to Muhammad. The human then asks if the AI remembers what he asked, and the AI responds that the human introduced himself and the AI introduced its own name. The human then asks about LangChain, and the AI explains that LangChain is a platform for translation and interpretation of different languages, using artificial intelligence to provide translation and interpretation services to users. The human then asks the AI to summarize the conversation so far, and the AI provides a summary of the conversation, including the introduction, the discussion about LangChain, and the human's request for a summary.\n",
      "\n",
      "کاربر: آیا می‌تونی خلاصه‌ای از مکالمه ما تا اینجا بگی؟\n",
      "دستیار: مکالمه ما تا اینجا شامل پرسش و پاسخ‌های مختلف درباره حال هر دوی ما، معرفی خودمان و سپس بحث در مورد LangChain بود که یک پلتفرم ترجمه و تفسیر زبان‌های مختلف است که از هوش مصنوعی برای ارائه خدمات ترجمه و تفسیر به کاربران استفاده می‌کند.\n",
      "----------------------------------------\n",
      "----------------------------------\n",
      "خلاصه نهایی: Current summary: The conversation starts with the human greeting the AI with \"سلام! حالت چطوره؟\" (Hello! How are you?), to which the AI responds with a friendly greeting and a positive statement about its own state, and then asks about the human's state. The human introduces himself as Muhammad, and the AI introduces itself as a helper, expressing its happiness to be talking to Muhammad. The human then asks if the AI remembers what he asked, and the AI responds that the human introduced himself and the AI introduced its own name. The human then asks about LangChain, and the AI explains that LangChain is a platform for translation and interpretation of different languages, using artificial intelligence to provide translation and interpretation services to users.\n",
      "\n",
      "New lines of conversation:\n",
      "Human: آیا می‌تونی خلاصه‌ای از مکالمه ما تا اینجا بگی؟\n",
      "AI: مکالمه ما تا اینجا شامل پرسش و پاسخ‌های مختلف درباره حال هر دوی ما، معرفی خودمان و سپس بحث در مورد LangChain بود که یک پلتفرم ترجمه و تفسیر زبان‌های مختلف است که از هوش مصنوعی برای ارائه خدمات ترجمه و تفسیر به کاربران استفاده می‌کند.\n",
      "\n",
      "New summary: The conversation starts with the human greeting the AI with \"سلام! حالت چطوره؟\" (Hello! How are you?), to which the AI responds with a friendly greeting and a positive statement about its own state, and then asks about the human's state. The human introduces himself as Muhammad, and the AI introduces itself as a helper, expressing its happiness to be talking to Muhammad. The human then asks if the AI remembers what he asked, and the AI responds that the human introduced himself and the AI introduced its own name. The human then asks about LangChain, and the AI explains that LangChain is a platform for translation and interpretation of different languages, using artificial intelligence to provide translation and interpretation services to users. The human then asks the AI to summarize the conversation so far, and the AI provides a summary of the conversation, including the introduction, the discussion about LangChain, and the human's request for a summary.\n",
      "\n"
     ]
    }
   ],
   "source": [
    "from langchain.memory import ConversationSummaryMemory\n",
    "from langchain.chains import LLMChain\n",
    "from langchain.prompts import PromptTemplate\n",
    "from langchain_openai import ChatOpenAI\n",
    "from langchain_groq import ChatGroq  \n",
    "\n",
    "# OpenAI for conversation\n",
    "llm = ChatOpenAI(model=\"gpt-3.5-turbo\", temperature=0.2)\n",
    "\n",
    "# Using llama3 model for summarization\n",
    "summary_llm = ChatGroq(model=\"llama3-8b-8192\", temperature=0.2)\n",
    "\n",
    "# Introducing summarization memory with Groq model\n",
    "memory = ConversationSummaryMemory(llm=summary_llm)\n",
    "\n",
    "prompt = PromptTemplate(\n",
    "    template=\"سابقه مکالمه:\\n{history}\\nکاربر: {input}\\nدستیار:\",\n",
    "    input_variables=[\"history\", \"input\"]\n",
    ")\n",
    "\n",
    "chat_chain = LLMChain(llm=llm, prompt=prompt, memory=memory)\n",
    "\n",
    "# Example questions to test the summarization memory\n",
    "questions = [\n",
    "    \"سلام! حالت چطوره؟\",\n",
    "    \"اسم من محمد است. اسم تو چیه؟\",\n",
    "    \"یادته من چی پرسیدم؟\",\n",
    "    \"درباره LangChain توضیح بده.\",\n",
    "    \"آیا می‌تونی خلاصه‌ای از مکالمه ما تا اینجا بگی؟\"\n",
    " ]\n",
    "\n",
    "for q in questions:\n",
    "    response = chat_chain.run(q)\n",
    "    print(f\"خلاصه‌شده: {memory.buffer}\\n\")\n",
    "    print(f\"کاربر: {q}\\nدستیار: {response}\\n{'-'*40}\")\n",
    "    \n",
    "print(\"----------------------------------\")\n",
    "print(f\"خلاصه نهایی: {memory.buffer}\\n\")"
   ]
  },
  {
   "cell_type": "markdown",
   "id": "7a8c53b0",
   "metadata": {},
   "source": [
    "<div dir=\"rtl\" align=\"right\">\n",
    "\n",
    "**نکته آموزشی:**\n",
    "\n",
    "برای اینکه قدرت ConversationSummaryMemory و خلاصه‌سازی با مدل Groq را بهتر ببینید، باید چند سؤال مرتبط و پیوسته بپرسید تا خلاصه مکالمه واقعاً تأثیرگذار باشد. مثلاً:\n",
    "\n",
    "1. ابتدا یک سؤال ساده بپرسید.\n",
    "2. سپس سؤال‌هایی بپرسید که به پاسخ قبلی یا اطلاعات قبلی نیاز دارند.\n",
    "3. در نهایت یک سؤال جمع‌بندی یا ارجاعی بپرسید تا مشخص شود حافظه و خلاصه‌سازی چگونه بر پاسخ اثر می‌گذارد.\n",
    "\n",
    "در ادامه یک مثال عملی با چند سؤال متوالی آورده شده است.\n",
    "\n",
    "</div>"
   ]
  },
  {
   "cell_type": "markdown",
   "id": "b8a5d1af",
   "metadata": {},
   "source": [
    "<div dir=\"rtl\" align=\"right\">\n",
    "\n",
    "#### مثال پیشرفته: ConversationalChain\n",
    "\n",
    "در LangChain می‌توانید از زنجیره‌های مکالمه‌ای (ConversationalChain) برای ساخت چت‌بات‌هایی با حافظه و مدیریت مکالمه چندمرحله‌ای استفاده کنید. این زنجیره‌ها به طور خودکار تاریخچه گفتگو را مدیریت می‌کنند و تجربه کاربری بهتری برای چت فراهم می‌کنند.\n",
    "\n",
    "</div>"
   ]
  },
  {
   "cell_type": "code",
   "execution_count": 25,
   "id": "fa2798aa",
   "metadata": {},
   "outputs": [
    {
     "name": "stderr",
     "output_type": "stream",
     "text": [
      "<ipython-input-25-f7f1a4633ef9>:6: LangChainDeprecationWarning: The class `ConversationChain` was deprecated in LangChain 0.2.7 and will be removed in 1.0. Use RunnableWithMessageHistory: https://python.langchain.com/v0.2/api_reference/core/runnables/langchain_core.runnables.history.RunnableWithMessageHistory.html instead.\n",
      "  conv_chain = ConversationChain(\n",
      "Error in StdOutCallbackHandler.on_chain_start callback: AttributeError(\"'NoneType' object has no attribute 'get'\")\n"
     ]
    },
    {
     "name": "stderr",
     "output_type": "stream",
     "text": [
      "<ipython-input-25-f7f1a4633ef9>:6: LangChainDeprecationWarning: The class `ConversationChain` was deprecated in LangChain 0.2.7 and will be removed in 1.0. Use RunnableWithMessageHistory: https://python.langchain.com/v0.2/api_reference/core/runnables/langchain_core.runnables.history.RunnableWithMessageHistory.html instead.\n",
      "  conv_chain = ConversationChain(\n",
      "Error in StdOutCallbackHandler.on_chain_start callback: AttributeError(\"'NoneType' object has no attribute 'get'\")\n"
     ]
    },
    {
     "name": "stdout",
     "output_type": "stream",
     "text": [
      "Prompt after formatting:\n",
      "\u001b[32;1m\u001b[1;3mThe following is a friendly conversation between a human and an AI. The AI is talkative and provides lots of specific details from its context. If the AI does not know the answer to a question, it truthfully says it does not know.\n",
      "\n",
      "Current conversation:\n",
      "[]\n",
      "Human: سلام! اسم تو چیه؟\n",
      "AI:\u001b[0m\n"
     ]
    },
    {
     "name": "stderr",
     "output_type": "stream",
     "text": [
      "<ipython-input-25-f7f1a4633ef9>:6: LangChainDeprecationWarning: The class `ConversationChain` was deprecated in LangChain 0.2.7 and will be removed in 1.0. Use RunnableWithMessageHistory: https://python.langchain.com/v0.2/api_reference/core/runnables/langchain_core.runnables.history.RunnableWithMessageHistory.html instead.\n",
      "  conv_chain = ConversationChain(\n",
      "Error in StdOutCallbackHandler.on_chain_start callback: AttributeError(\"'NoneType' object has no attribute 'get'\")\n"
     ]
    },
    {
     "name": "stdout",
     "output_type": "stream",
     "text": [
      "Prompt after formatting:\n",
      "\u001b[32;1m\u001b[1;3mThe following is a friendly conversation between a human and an AI. The AI is talkative and provides lots of specific details from its context. If the AI does not know the answer to a question, it truthfully says it does not know.\n",
      "\n",
      "Current conversation:\n",
      "[]\n",
      "Human: سلام! اسم تو چیه؟\n",
      "AI:\u001b[0m\n"
     ]
    },
    {
     "name": "stderr",
     "output_type": "stream",
     "text": [
      "Error in StdOutCallbackHandler.on_chain_start callback: AttributeError(\"'NoneType' object has no attribute 'get'\")\n"
     ]
    },
    {
     "name": "stderr",
     "output_type": "stream",
     "text": [
      "<ipython-input-25-f7f1a4633ef9>:6: LangChainDeprecationWarning: The class `ConversationChain` was deprecated in LangChain 0.2.7 and will be removed in 1.0. Use RunnableWithMessageHistory: https://python.langchain.com/v0.2/api_reference/core/runnables/langchain_core.runnables.history.RunnableWithMessageHistory.html instead.\n",
      "  conv_chain = ConversationChain(\n",
      "Error in StdOutCallbackHandler.on_chain_start callback: AttributeError(\"'NoneType' object has no attribute 'get'\")\n"
     ]
    },
    {
     "name": "stdout",
     "output_type": "stream",
     "text": [
      "Prompt after formatting:\n",
      "\u001b[32;1m\u001b[1;3mThe following is a friendly conversation between a human and an AI. The AI is talkative and provides lots of specific details from its context. If the AI does not know the answer to a question, it truthfully says it does not know.\n",
      "\n",
      "Current conversation:\n",
      "[]\n",
      "Human: سلام! اسم تو چیه؟\n",
      "AI:\u001b[0m\n"
     ]
    },
    {
     "name": "stderr",
     "output_type": "stream",
     "text": [
      "Error in StdOutCallbackHandler.on_chain_start callback: AttributeError(\"'NoneType' object has no attribute 'get'\")\n"
     ]
    },
    {
     "name": "stdout",
     "output_type": "stream",
     "text": [
      "\n",
      "\u001b[1m> Finished chain.\u001b[0m\n",
      "سلام! من یک هوش مصنوعی هستم و اسم من OpenAI هستش. چطور میتونم به شما کمک کنم؟\n",
      "Prompt after formatting:\n",
      "\u001b[32;1m\u001b[1;3mThe following is a friendly conversation between a human and an AI. The AI is talkative and provides lots of specific details from its context. If the AI does not know the answer to a question, it truthfully says it does not know.\n",
      "\n",
      "Current conversation:\n",
      "[HumanMessage(content='سلام! اسم تو چیه؟'), AIMessage(content='سلام! من یک هوش مصنوعی هستم و اسم من OpenAI هستش. چطور میتونم به شما کمک کنم؟')]\n",
      "Human: من دیروز چی پرسیدم؟\n",
      "AI:\u001b[0m\n",
      "\n",
      "\u001b[1m> Finished chain.\u001b[0m\n",
      "متاسفانه من اطلاعات دقیق از دیروز ندارم. آیا می‌خواهید من به شما در مورد چیز دیگری کمک کنم؟\n",
      "\n",
      "\u001b[1m> Finished chain.\u001b[0m\n",
      "متاسفانه من اطلاعات دقیق از دیروز ندارم. آیا می‌خواهید من به شما در مورد چیز دیگری کمک کنم؟\n"
     ]
    }
   ],
   "source": [
    "from langchain.chains import ConversationChain\n",
    "from langchain.memory import ConversationBufferMemory\n",
    "\n",
    "memory = ConversationBufferMemory(return_messages=True)\n",
    "\n",
    "conv_chain = ConversationChain(\n",
    "    llm=llm,\n",
    "    memory=memory,\n",
    "    verbose=True\n",
    ")\n",
    "\n",
    "response1 = conv_chain.run(\"سلام! اسم تو چیه؟\")\n",
    "print(response1)\n",
    "response2 = conv_chain.run(\"من دیروز چی پرسیدم؟\")\n",
    "print(response2)"
   ]
  },
  {
   "cell_type": "markdown",
   "id": "6ff971e5",
   "metadata": {},
   "source": [
    "<div dir=\"rtl\" align=\"right\">\n",
    "\n",
    "---\n",
    "\n",
    "### ۵. مقایسه زنجیره با ایجنت\n",
    "\n",
    "- **زنجیره‌ها (Chains):** مسیر و مراحل از قبل مشخص است و مدل فقط طبق همان مراحل پیش می‌رود.\n",
    "- **ایجنت‌ها (Agents):** مدل می‌تواند تصمیم بگیرد از چه ابزاری و در چه زمانی استفاده کند (انعطاف‌پذیرتر).\n",
    "\n",
    "**چه زمانی از Chain و چه زمانی از Agent استفاده کنیم؟**\n",
    "- اگر مراحل کارتان مشخص و خطی است، Chain مناسب‌تر است.\n",
    "- اگر نیاز به تصمیم‌گیری پویا و استفاده از ابزارهای مختلف دارید، Agent انتخاب بهتری است.\n",
    "\n",
    "**نکته:**  \n",
    "در پروژه‌های واقعی، ابتدا با Chain شروع کنید و اگر نیاز به انعطاف بیشتر داشتید، به سمت Agent بروید.\n",
    "\n",
    "<div dir=\"rtl\" align=\"right\">\n"
   ]
  },
  {
   "cell_type": "markdown",
   "id": "d99ffade",
   "metadata": {},
   "source": [
    "<div dir=\"rtl\" align=\"right\">\n",
    "\n",
    "---\n",
    "\n",
    "\n",
    "### تمامی Chainهایی که در این بخش معرفی کردیم (مانند LLMChain، SimpleSequentialChain و SequentialChain) در نسخه‌های جدید LangChain منسوخ شده‌اند.\n",
    "\n",
    "#### جایگزین پیشنهادی: LangChain Expression Language (LCEL)\n",
    "\n",
    "\n",
    "برای ساخت زنجیره‌های ساده و چندمرحله‌ای، پیشنهاد می‌شود از LCEL استفاده کنید که هم خواناتر است و هم انعطاف بیشتری دارد.\n",
    "\n",
    "در ادامه چند مثال از نحوه استفاده LCEL آورده شده است:\n",
    "\n",
    "\n",
    "</div>"
   ]
  },
  {
   "cell_type": "markdown",
   "id": "369297e8",
   "metadata": {},
   "source": [
    "<div dir=\"rtl\" align=\"right\">\n",
    "\n",
    "##### LCEL به جای LLMChain\n",
    "\n",
    "</div>"
   ]
  },
  {
   "cell_type": "code",
   "execution_count": null,
   "id": "278c63cb",
   "metadata": {},
   "outputs": [],
   "source": [
    "from langchain_core.prompts import PromptTemplate\n",
    "from langchain_openai import ChatOpenAI\n",
    "from langchain_core.output_parsers import StrOutputParser\n",
    "\n",
    "prompt = PromptTemplate(input_variables=[\"topic\"], template=\"Tell me a {topic} joke.\")\n",
    "chain = prompt | llm | StrOutputParser()\n",
    "result = chain.invoke({\"topic\": \"programming\"})\n",
    "print(result)"
   ]
  },
  {
   "cell_type": "markdown",
   "id": "69798a2b",
   "metadata": {},
   "source": [
    "<div dir=\"rtl\" align=\"right\">\n",
    "\n",
    "##### LCEL برای ساخت زنجیره multi-step\n",
    "\n",
    "</div>"
   ]
  },
  {
   "cell_type": "code",
   "execution_count": 26,
   "id": "5112f6e6",
   "metadata": {},
   "outputs": [
    {
     "name": "stdout",
     "output_type": "stream",
     "text": [
      "EduGeniusAI is a startup name that suggests a focus on education and intelligence. The combination of \"Edu\" for education and \"Genius\" implies a platform or service that utilizes artificial intelligence to enhance learning and knowledge acquisition. This name conveys a sense of innovation and expertise in the field of education technology.\n"
     ]
    }
   ],
   "source": [
    "from langchain_core.runnables import RunnableLambda\n",
    "\n",
    "p1 = PromptTemplate(input_variables=[\"theme\"], template=\"Write an AI startup name for {theme}\")\n",
    "p2 = PromptTemplate(input_variables=[\"startup_name\"], template=\"Now describe that startup name: {startup_name}\")\n",
    "\n",
    "def to_startup_name_dict(x):\n",
    "    return {\"startup_name\": x}\n",
    "\n",
    "chain = (\n",
    "    p1\n",
    "    | llm\n",
    "    | RunnableLambda(to_startup_name_dict)\n",
    "    | p2\n",
    "    | llm\n",
    "    | StrOutputParser()\n",
    ")\n",
    "\n",
    "out = chain.invoke({\"theme\": \"education\"})\n",
    "print(out)"
   ]
  },
  {
   "cell_type": "markdown",
   "id": "e014dd84",
   "metadata": {},
   "source": [
    "<div dir=\"rtl\" align=\"right\">\n",
    "\n",
    "---\n",
    "\n",
    "### ۶. تمرین نهایی و جمع‌بندی\n",
    "\n",
    "**تمرین:**  \n",
    "یک زنجیره چندمرحله‌ای بسازید که ابتدا یک عنوان، سپس توضیح و در نهایت یک خلاصه کوتاه برای یک موضوع تولید کند.\n",
    "\n",
    "**جمع‌بندی نکات مهم:**\n",
    "- زنجیره‌ها برای خودکارسازی چند مرحله ساده و مشخص عالی‌اند.\n",
    "- با اضافه کردن حافظه، می‌توانید سیستم‌های تعاملی‌تر بسازید.\n",
    "- تفاوت Chain و Agent را در پروژه‌های واقعی در نظر بگیرید.\n",
    "\n",
    "</div>"
   ]
  }
 ],
 "metadata": {
  "kernelspec": {
   "display_name": "base",
   "language": "python",
   "name": "python3"
  },
  "language_info": {
   "codemirror_mode": {
    "name": "ipython",
    "version": 3
   },
   "file_extension": ".py",
   "mimetype": "text/x-python",
   "name": "python",
   "nbconvert_exporter": "python",
   "pygments_lexer": "ipython3",
   "version": "3.8.8"
  }
 },
 "nbformat": 4,
 "nbformat_minor": 5
}
